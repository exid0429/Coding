{
 "cells": [
  {
   "cell_type": "code",
   "execution_count": 8,
   "metadata": {},
   "outputs": [
    {
     "name": "stdout",
     "output_type": "stream",
     "text": [
      "[1, 2, 3, 4, 5, 6]\n"
     ]
    }
   ],
   "source": [
    "d2 = [[1,2,3],[4,5,6]]\n",
    "\n",
    "d1 = []\n",
    "for row in d2:\n",
    "    for x in row:\n",
    "        d1 = d1 +[x]\n",
    "        \n",
    "print(d1)"
   ]
  },
  {
   "cell_type": "code",
   "execution_count": 7,
   "metadata": {},
   "outputs": [
    {
     "name": "stdout",
     "output_type": "stream",
     "text": [
      "[1, 2, 3, 4, 5, 6]\n"
     ]
    }
   ],
   "source": [
    "d2 = [[1,2,3],[4,5,6]]\n",
    "d1 = []\n",
    "for row in d2:\n",
    "    for x in row:\n",
    "        d1.append(x)\n",
    "print(d1)"
   ]
  },
  {
   "cell_type": "code",
   "execution_count": 6,
   "metadata": {},
   "outputs": [
    {
     "name": "stdout",
     "output_type": "stream",
     "text": [
      "[[1, 2, 3], [4, 5, 6]]\n"
     ]
    }
   ],
   "source": [
    "d2 = [[1,2,3],[4,5,6]]\n",
    "d1=[]\n",
    "for row in d2:\n",
    "    d1.append(row)\n",
    "print(d1)"
   ]
  },
  {
   "cell_type": "code",
   "execution_count": 5,
   "metadata": {},
   "outputs": [
    {
     "name": "stdout",
     "output_type": "stream",
     "text": [
      "[1, 2, 3, 4, 5, 6]\n"
     ]
    }
   ],
   "source": [
    "d2 = [[1,2,3],[4,5,6]]\n",
    "d1=[]\n",
    "for row in d2:\n",
    "    d1.extend(row)\n",
    "    \n",
    "print(d1)"
   ]
  },
  {
   "cell_type": "code",
   "execution_count": 10,
   "metadata": {},
   "outputs": [
    {
     "name": "stdout",
     "output_type": "stream",
     "text": [
      "1\n",
      "6\n",
      "11\n",
      "16\n",
      "21\n",
      "26\n",
      "81\n"
     ]
    }
   ],
   "source": [
    "total = 0\n",
    "for i in range(1,31,5):\n",
    "    total += i\n",
    "    print(i)\n",
    "print(total)\n",
    "5+"
   ]
  },
  {
   "cell_type": "code",
   "execution_count": 11,
   "metadata": {},
   "outputs": [
    {
     "name": "stdout",
     "output_type": "stream",
     "text": [
      "[('a', 'd'), ('b', 'e'), ('c', 'f')]\n"
     ]
    }
   ],
   "source": [
    "a = ['a','b','c']\n",
    "b = ['d','e','f']\n",
    "\n",
    "print(list(zip(a,b)))"
   ]
  },
  {
   "cell_type": "code",
   "execution_count": 12,
   "metadata": {},
   "outputs": [
    {
     "name": "stdout",
     "output_type": "stream",
     "text": [
      "함수 밖1= 3\n",
      "함수 안1= 3\n",
      "함수 안2= 5\n",
      "함수 밖2= 3\n"
     ]
    }
   ],
   "source": [
    "def test(a):\n",
    "    print(\"함수 안1=\",a)\n",
    "    a=5\n",
    "    print(\"함수 안2=\",a)\n",
    "a=3\n",
    "print(\"함수 밖1=\",a)\n",
    "test(a)\n",
    "print(\"함수 밖2=\",a)"
   ]
  },
  {
   "cell_type": "code",
   "execution_count": 13,
   "metadata": {},
   "outputs": [
    {
     "name": "stdout",
     "output_type": "stream",
     "text": [
      "['10', '13', '16', '19', '22', '25', '28']\n"
     ]
    }
   ],
   "source": [
    "a = [str(i+10) for i in range(0,20,3)]\n",
    "print(a)"
   ]
  },
  {
   "cell_type": "code",
   "execution_count": 14,
   "metadata": {},
   "outputs": [
    {
     "name": "stdout",
     "output_type": "stream",
     "text": [
      "{'a': 6}\n"
     ]
    }
   ],
   "source": [
    "dict = {\"a\" : 5}\n",
    "dict[\"a\"] = 6\n",
    "print(dict)"
   ]
  },
  {
   "cell_type": "code",
   "execution_count": 18,
   "metadata": {},
   "outputs": [
    {
     "name": "stdout",
     "output_type": "stream",
     "text": [
      "baafs\n",
      "baafsadad\n",
      "baafs\n",
      "baafs\n"
     ]
    }
   ],
   "source": [
    "c = \"abracasfasfasdfasdf\"\n",
    "print(c[1:10:2])\n",
    "print(c[1::2][:10])\n",
    "for i in range(1,10,2):\n",
    "    print(c[i],end='')\n",
    "print()\n",
    "for i in range(10):\n",
    "    if i % 2 ==1:\n",
    "        print(c[i],end='')\n",
    "print()"
   ]
  },
  {
   "cell_type": "code",
   "execution_count": 19,
   "metadata": {},
   "outputs": [
    {
     "name": "stdout",
     "output_type": "stream",
     "text": [
      "1\n",
      "3\n"
     ]
    }
   ],
   "source": [
    "for i in range(5):\n",
    "    if i % 2 ==0:\n",
    "        continue\n",
    "    print(i)"
   ]
  },
  {
   "cell_type": "code",
   "execution_count": 20,
   "metadata": {},
   "outputs": [
    {
     "name": "stdout",
     "output_type": "stream",
     "text": [
      "['a', 'a', 'a', 'a', 'a'] ['aaaaa'] ['a', 'a', 'a', 'a', 'a'] ['a', 'a', 'a', 'a', 'a']\n"
     ]
    }
   ],
   "source": [
    "a5 = ['a','a','a','a','a']\n",
    "a6 = ['a' * 5]\n",
    "a7 = ['a' for _ in range(5)]\n",
    "a8 = ['a'] * 5\n",
    "print(a5, a6 , a7,a8)"
   ]
  },
  {
   "cell_type": "code",
   "execution_count": 25,
   "metadata": {},
   "outputs": [
    {
     "ename": "TypeError",
     "evalue": "'tuple' object does not support item assignment",
     "output_type": "error",
     "traceback": [
      "\u001b[0;31m---------------------------------------------------------------------------\u001b[0m",
      "\u001b[0;31mTypeError\u001b[0m                                 Traceback (most recent call last)",
      "\u001b[0;32m<ipython-input-25-9a614829cc97>\u001b[0m in \u001b[0;36m<module>\u001b[0;34m\u001b[0m\n\u001b[1;32m      1\u001b[0m \u001b[0mt\u001b[0m\u001b[0;34m=\u001b[0m\u001b[0;34m(\u001b[0m\u001b[0;36m1\u001b[0m\u001b[0;34m,\u001b[0m\u001b[0;36m2\u001b[0m\u001b[0;34m)\u001b[0m\u001b[0;34m\u001b[0m\u001b[0;34m\u001b[0m\u001b[0m\n\u001b[0;32m----> 2\u001b[0;31m \u001b[0mt\u001b[0m\u001b[0;34m[\u001b[0m\u001b[0;36m0\u001b[0m\u001b[0;34m]\u001b[0m\u001b[0;34m=\u001b[0m\u001b[0;34m'0'\u001b[0m\u001b[0;34m\u001b[0m\u001b[0;34m\u001b[0m\u001b[0m\n\u001b[0m",
      "\u001b[0;31mTypeError\u001b[0m: 'tuple' object does not support item assignment"
     ]
    }
   ],
   "source": []
  },
  {
   "cell_type": "code",
   "execution_count": 33,
   "metadata": {},
   "outputs": [
    {
     "name": "stdout",
     "output_type": "stream",
     "text": [
      "3\n"
     ]
    }
   ],
   "source": [
    "scores=[85,80,90,100]\n",
    "\n",
    "score = scores[0]\n",
    "scores.sort(reverse=True)\n",
    "rank = 1\n",
    "for s in scores:\n",
    "    if s == score:\n",
    "        break\n",
    "    rank +=1\n",
    "print(rank)"
   ]
  },
  {
   "cell_type": "code",
   "execution_count": 32,
   "metadata": {},
   "outputs": [
    {
     "name": "stdout",
     "output_type": "stream",
     "text": [
      "1\n"
     ]
    }
   ],
   "source": [
    "scores = [75,80,70,60]\n",
    "scores.sort(reverse=True)\n",
    "rank = 1\n",
    "for s in scores:\n",
    "    if s == scores[0]:\n",
    "        break\n",
    "    rank +=1\n",
    "print(rank)"
   ]
  },
  {
   "cell_type": "code",
   "execution_count": null,
   "metadata": {},
   "outputs": [],
   "source": []
  }
 ],
 "metadata": {
  "kernelspec": {
   "display_name": "Python 3",
   "language": "python",
   "name": "python3"
  },
  "language_info": {
   "codemirror_mode": {
    "name": "ipython",
    "version": 3
   },
   "file_extension": ".py",
   "mimetype": "text/x-python",
   "name": "python",
   "nbconvert_exporter": "python",
   "pygments_lexer": "ipython3",
   "version": "3.8.5"
  }
 },
 "nbformat": 4,
 "nbformat_minor": 4
}
